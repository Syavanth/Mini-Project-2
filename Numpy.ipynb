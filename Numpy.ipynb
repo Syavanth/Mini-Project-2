{
 "cells": [
  {
   "cell_type": "code",
   "execution_count": 23,
   "id": "c2fa1390-783b-40a9-bda3-2e3f9bd8f82b",
   "metadata": {},
   "outputs": [
    {
     "name": "stdout",
     "output_type": "stream",
     "text": [
      "2\n"
     ]
    }
   ],
   "source": [
    "#1\n",
    "import numpy as np\n",
    "array = np.array([1, 3, 7, 1, 2])\n",
    "indices = np.argmax(array)\n",
    "print(indices) \n"
   ]
  },
  {
   "cell_type": "code",
   "execution_count": 25,
   "id": "646ea4d9-5d4c-460a-bc05-85271861d2a6",
   "metadata": {},
   "outputs": [
    {
     "name": "stdout",
     "output_type": "stream",
     "text": [
      "0\n"
     ]
    }
   ],
   "source": [
    "#2\n",
    "import numpy as np\n",
    "array = np.array([1, 3, 7, 1, 2])\n",
    "indices = np.argmin(array)\n",
    "print(indices)  \n"
   ]
  },
  {
   "cell_type": "code",
   "execution_count": 27,
   "id": "2e0b9a8b-d035-4ce0-b9d8-ff385137d453",
   "metadata": {},
   "outputs": [
    {
     "name": "stdout",
     "output_type": "stream",
     "text": [
      "[1. 2. 3.]\n",
      "float32\n"
     ]
    }
   ],
   "source": [
    "#3\n",
    "import numpy as np\n",
    "array = np.array([1, 2, 3], dtype=np.float32)\n",
    "print(array)  \n",
    "print(array.dtype)  \n"
   ]
  },
  {
   "cell_type": "code",
   "execution_count": 29,
   "id": "30b3855f-15d5-425c-a482-de36b2a64ab0",
   "metadata": {},
   "outputs": [
    {
     "name": "stdout",
     "output_type": "stream",
     "text": [
      "[1 2 3]\n",
      "int32\n"
     ]
    }
   ],
   "source": [
    "#4\n",
    "import numpy as np\n",
    "array = np.array([1.5, 2.5, 3.5])\n",
    "new_array = array.astype(np.int32)\n",
    "print(new_array)  \n",
    "print(new_array.dtype)  \n"
   ]
  },
  {
   "cell_type": "code",
   "execution_count": 31,
   "id": "bc9063cc-3208-4f23-b0a0-c5a6e3379205",
   "metadata": {},
   "outputs": [
    {
     "name": "stdout",
     "output_type": "stream",
     "text": [
      "[[ 6  8]\n",
      " [10 12]]\n"
     ]
    }
   ],
   "source": [
    "#5\n",
    "import numpy as np\n",
    "A = np.array([[1, 2], [3, 4]])\n",
    "B = np.array([[5, 6], [7, 8]])\n",
    "result = A + B\n",
    "print(result)  \n"
   ]
  },
  {
   "cell_type": "code",
   "execution_count": 33,
   "id": "428b722a-1240-40e8-9ab1-caf5c4a65177",
   "metadata": {},
   "outputs": [
    {
     "name": "stdout",
     "output_type": "stream",
     "text": [
      "[[19 22]\n",
      " [43 50]]\n"
     ]
    }
   ],
   "source": [
    "#6\n",
    "import numpy as np\n",
    "A = np.array([[1, 2], [3, 4]])\n",
    "B = np.array([[5, 6], [7, 8]])\n",
    "result = np.dot(A, B)\n",
    "print(result)  "
   ]
  },
  {
   "cell_type": "code",
   "execution_count": 35,
   "id": "d31d3660-9ce3-468c-acc8-2a0a4d8ca10c",
   "metadata": {},
   "outputs": [
    {
     "name": "stdout",
     "output_type": "stream",
     "text": [
      "[[1 3]\n",
      " [2 4]]\n"
     ]
    }
   ],
   "source": [
    "#7\n",
    "import numpy as np\n",
    "matrix = np.array([[1, 2], [3, 4]])\n",
    "transpose = np.transpose(matrix)\n",
    "print(transpose)  \n"
   ]
  },
  {
   "cell_type": "code",
   "execution_count": 37,
   "id": "c9030b51-0c42-478f-bf0b-6914278e0009",
   "metadata": {},
   "outputs": [
    {
     "name": "stdout",
     "output_type": "stream",
     "text": [
      "[2 3 4]\n"
     ]
    }
   ],
   "source": [
    "#8\n",
    "import numpy as np\n",
    "array = np.array([1, 2, 3, 4, 5])\n",
    "slice = array[1:4]\n",
    "print(slice)\n"
   ]
  },
  {
   "cell_type": "code",
   "execution_count": 39,
   "id": "ee8f4554-6f01-49a4-bb2e-667f3fa38387",
   "metadata": {},
   "outputs": [
    {
     "name": "stdout",
     "output_type": "stream",
     "text": [
      "[0 2 4 6 8]\n"
     ]
    }
   ],
   "source": [
    "#9\n",
    "import numpy as np\n",
    "array = np.arange(0, 10, 2)\n",
    "print(array) \n"
   ]
  },
  {
   "cell_type": "code",
   "execution_count": 41,
   "id": "990a052a-fd82-4928-9d54-a418ca30f396",
   "metadata": {},
   "outputs": [
    {
     "name": "stdout",
     "output_type": "stream",
     "text": [
      "[array([1, 2]), array([3, 4]), array([5, 6])]\n"
     ]
    }
   ],
   "source": [
    "#10\n",
    "import numpy as np\n",
    "array = np.array([1, 2, 3, 4, 5, 6])\n",
    "sub_arrays = np.split(array, 3)\n",
    "print(sub_arrays)  "
   ]
  },
  {
   "cell_type": "code",
   "execution_count": null,
   "id": "db97052a-c96b-4084-9733-392708a19b44",
   "metadata": {},
   "outputs": [],
   "source": []
  }
 ],
 "metadata": {
  "kernelspec": {
   "display_name": "Python 3 (ipykernel)",
   "language": "python",
   "name": "python3"
  },
  "language_info": {
   "codemirror_mode": {
    "name": "ipython",
    "version": 3
   },
   "file_extension": ".py",
   "mimetype": "text/x-python",
   "name": "python",
   "nbconvert_exporter": "python",
   "pygments_lexer": "ipython3",
   "version": "3.12.4"
  }
 },
 "nbformat": 4,
 "nbformat_minor": 5
}
